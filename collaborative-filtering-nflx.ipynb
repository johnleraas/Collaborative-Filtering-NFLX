{
 "cells": [
  {
   "cell_type": "markdown",
   "id": "74f06334",
   "metadata": {
    "papermill": {
     "duration": 0.039579,
     "end_time": "2022-04-02T14:58:06.519914",
     "exception": false,
     "start_time": "2022-04-02T14:58:06.480335",
     "status": "completed"
    },
    "tags": []
   },
   "source": [
    "**Authors:** John Leraas\n",
    "\n",
    "**Date:** 2/19/022\n",
    "\n",
    "**Purpose:** This notebook was created to provide an example of collaborative filtering work on a non-proprietary, and famous, dataset"
   ]
  },
  {
   "cell_type": "markdown",
   "id": "c6094b5b",
   "metadata": {
    "papermill": {
     "duration": 0.037859,
     "end_time": "2022-04-02T14:58:06.597796",
     "exception": false,
     "start_time": "2022-04-02T14:58:06.559937",
     "status": "completed"
    },
    "tags": []
   },
   "source": [
    "# Collaborative Filtering Recommendation System\n",
    "\n",
    "Collaborative filtering is a highly effective recommendation system and popularlized through the Netflix Prize competition in 2009. The basic intuition behind collaborative filtering is that if User1 and User2 both like items A, B, C, then if User1 also likes item D we would expect that User2 would like it as well. Bilinear prediction of the target variable (i.e. like, rating) is a simple parametric method that has been highly successful. Of particular interest, this is independent of any features associated with the specified items.\n",
    "\n",
    "While the Netflix data provides an example of explicit ratings (input directly by the user), it is also possible to use implicit feedback. Examples of implicit ratings could be coding a \"1\" for movies that were stopped within the first quarter of the movie and never finished, or perhaps a \"4\" or \"5\" could be coded if a movie was watched until the end and the user then watched a similar movie. \n",
    "\n",
    "Collaborative filtering recommendation systems can suffer from a \"cold start\" problem referring to the fact that new users and new products/content will not have any pre-existing data from which to draw and there is no way to calculate similarity to other items. This can be overcome through (i) solicitation of initial ratings for new users, and/or (ii) supplementation of content-based recommender systems. "
   ]
  },
  {
   "cell_type": "markdown",
   "id": "8af0b428",
   "metadata": {
    "papermill": {
     "duration": 0.037619,
     "end_time": "2022-04-02T14:58:06.674182",
     "exception": false,
     "start_time": "2022-04-02T14:58:06.636563",
     "status": "completed"
    },
    "tags": []
   },
   "source": [
    "# Data Setup and Import Libraries"
   ]
  },
  {
   "cell_type": "code",
   "execution_count": 1,
   "id": "1d9f10f4",
   "metadata": {
    "_cell_guid": "b1076dfc-b9ad-4769-8c92-a6c4dae69d19",
    "_uuid": "8f2839f25d086af736a60e9eeb907d3b93b6e0e5",
    "execution": {
     "iopub.execute_input": "2022-04-02T14:58:06.762618Z",
     "iopub.status.busy": "2022-04-02T14:58:06.761866Z",
     "iopub.status.idle": "2022-04-02T14:58:06.891962Z",
     "shell.execute_reply": "2022-04-02T14:58:06.892468Z",
     "shell.execute_reply.started": "2022-02-19T20:29:34.655237Z"
    },
    "papermill": {
     "duration": 0.180094,
     "end_time": "2022-04-02T14:58:06.892777",
     "exception": false,
     "start_time": "2022-04-02T14:58:06.712683",
     "status": "completed"
    },
    "tags": []
   },
   "outputs": [
    {
     "name": "stdout",
     "output_type": "stream",
     "text": [
      "/kaggle/input/netflix-prize-data/combined_data_3.txt\n",
      "/kaggle/input/netflix-prize-data/movie_titles.csv\n",
      "/kaggle/input/netflix-prize-data/combined_data_4.txt\n",
      "/kaggle/input/netflix-prize-data/combined_data_1.txt\n",
      "/kaggle/input/netflix-prize-data/README\n",
      "/kaggle/input/netflix-prize-data/probe.txt\n",
      "/kaggle/input/netflix-prize-data/combined_data_2.txt\n",
      "/kaggle/input/netflix-prize-data/qualifying.txt\n"
     ]
    }
   ],
   "source": [
    "# Netflix Dataset\n",
    "import os\n",
    "for dirname, _, filenames in os.walk('/kaggle/input'):\n",
    "    for filename in filenames:\n",
    "        print(os.path.join(dirname, filename))\n",
    "        \n",
    "import pandas as pd\n",
    "import numpy as np\n",
    "import gc # Garbage Collection\n",
    "from surprise import Reader, Dataset, SVD, KNNBasic\n",
    "from surprise.model_selection import cross_validate"
   ]
  },
  {
   "cell_type": "markdown",
   "id": "c9c7263e",
   "metadata": {
    "papermill": {
     "duration": 0.038084,
     "end_time": "2022-04-02T14:58:06.973101",
     "exception": false,
     "start_time": "2022-04-02T14:58:06.935017",
     "status": "completed"
    },
    "tags": []
   },
   "source": [
    "# Load and Structure Data "
   ]
  },
  {
   "cell_type": "code",
   "execution_count": 2,
   "id": "373fa178",
   "metadata": {
    "execution": {
     "iopub.execute_input": "2022-04-02T14:58:07.054771Z",
     "iopub.status.busy": "2022-04-02T14:58:07.054087Z",
     "iopub.status.idle": "2022-04-02T14:58:07.057637Z",
     "shell.execute_reply": "2022-04-02T14:58:07.058264Z",
     "shell.execute_reply.started": "2022-02-19T20:29:37.974093Z"
    },
    "papermill": {
     "duration": 0.045657,
     "end_time": "2022-04-02T14:58:07.058437",
     "exception": false,
     "start_time": "2022-04-02T14:58:07.012780",
     "status": "completed"
    },
    "tags": []
   },
   "outputs": [],
   "source": [
    "# files = ['../input/netflix-prize-data/combined_data_1.txt',\n",
    "#         '../input/netflix-prize-data/combined_data_2.txt',\n",
    "#         '../input/netflix-prize-data/combined_data_3.txt'\n",
    "#         '../input/netflix-prize-data/combined_data_4.txt']\n",
    "\n",
    "# Single file to reduce runtime\n",
    "files = ['../input/netflix-prize-data/combined_data_1.txt']"
   ]
  },
  {
   "cell_type": "markdown",
   "id": "7988ba33",
   "metadata": {
    "papermill": {
     "duration": 0.03791,
     "end_time": "2022-04-02T14:58:07.134837",
     "exception": false,
     "start_time": "2022-04-02T14:58:07.096927",
     "status": "completed"
    },
    "tags": []
   },
   "source": [
    "__Note__ that data is structured as:\n",
    "\n",
    "1:\n",
    "\n",
    "1488844,3,2005-09-06\n",
    "\n",
    "822109,5,2005-05-13\n",
    "\n",
    "...\n",
    "\n",
    "Specifically, 1: indicates the movie_id followed by user ratings (including date of rating)"
   ]
  },
  {
   "cell_type": "code",
   "execution_count": 3,
   "id": "39634134",
   "metadata": {
    "execution": {
     "iopub.execute_input": "2022-04-02T14:58:07.214644Z",
     "iopub.status.busy": "2022-04-02T14:58:07.213902Z",
     "iopub.status.idle": "2022-04-02T14:58:59.269370Z",
     "shell.execute_reply": "2022-04-02T14:58:59.269921Z",
     "shell.execute_reply.started": "2022-02-19T20:29:41.411849Z"
    },
    "papermill": {
     "duration": 52.097075,
     "end_time": "2022-04-02T14:58:59.270116",
     "exception": false,
     "start_time": "2022-04-02T14:58:07.173041",
     "status": "completed"
    },
    "tags": []
   },
   "outputs": [
    {
     "data": {
      "text/plain": [
       "(24053764, 4)"
      ]
     },
     "execution_count": 3,
     "metadata": {},
     "output_type": "execute_result"
    }
   ],
   "source": [
    "data = [] #Empty List\n",
    "\n",
    "for file in files:\n",
    "    with open(file) as f:\n",
    "        for line in f:\n",
    "            line = line.strip()\n",
    "            if line.endswith(':'):\n",
    "                movie_id = line.replace(':','')\n",
    "            else:\n",
    "                w_line = str(movie_id) +','+ line\n",
    "                w_tup = tuple(w_line.split(','))\n",
    "                data.append(w_tup)\n",
    "\n",
    "df=pd.DataFrame(data, columns=['movie_id', 'user_id', 'rating', 'date'])                \n",
    "df.shape                "
   ]
  },
  {
   "cell_type": "code",
   "execution_count": 4,
   "id": "3ab6bc5a",
   "metadata": {
    "execution": {
     "iopub.execute_input": "2022-04-02T14:59:05.885375Z",
     "iopub.status.busy": "2022-04-02T14:59:02.134632Z",
     "iopub.status.idle": "2022-04-02T14:59:06.531119Z",
     "shell.execute_reply": "2022-04-02T14:59:06.531670Z",
     "shell.execute_reply.started": "2022-02-19T20:30:36.360989Z"
    },
    "papermill": {
     "duration": 7.222197,
     "end_time": "2022-04-02T14:59:06.531863",
     "exception": false,
     "start_time": "2022-04-02T14:58:59.309666",
     "status": "completed"
    },
    "tags": []
   },
   "outputs": [],
   "source": [
    "# Clean\n",
    "df = df[['user_id', 'movie_id', 'rating']]\n",
    "df = df.astype({'rating': 'uint8'})"
   ]
  },
  {
   "cell_type": "code",
   "execution_count": 5,
   "id": "f36516af",
   "metadata": {
    "execution": {
     "iopub.execute_input": "2022-04-02T14:59:06.614538Z",
     "iopub.status.busy": "2022-04-02T14:59:06.613916Z",
     "iopub.status.idle": "2022-04-02T14:59:06.626521Z",
     "shell.execute_reply": "2022-04-02T14:59:06.627063Z",
     "shell.execute_reply.started": "2022-02-19T20:30:45.067332Z"
    },
    "papermill": {
     "duration": 0.056118,
     "end_time": "2022-04-02T14:59:06.627237",
     "exception": false,
     "start_time": "2022-04-02T14:59:06.571119",
     "status": "completed"
    },
    "tags": []
   },
   "outputs": [
    {
     "data": {
      "text/html": [
       "<div>\n",
       "<style scoped>\n",
       "    .dataframe tbody tr th:only-of-type {\n",
       "        vertical-align: middle;\n",
       "    }\n",
       "\n",
       "    .dataframe tbody tr th {\n",
       "        vertical-align: top;\n",
       "    }\n",
       "\n",
       "    .dataframe thead th {\n",
       "        text-align: right;\n",
       "    }\n",
       "</style>\n",
       "<table border=\"1\" class=\"dataframe\">\n",
       "  <thead>\n",
       "    <tr style=\"text-align: right;\">\n",
       "      <th></th>\n",
       "      <th>user_id</th>\n",
       "      <th>movie_id</th>\n",
       "      <th>rating</th>\n",
       "    </tr>\n",
       "  </thead>\n",
       "  <tbody>\n",
       "    <tr>\n",
       "      <th>0</th>\n",
       "      <td>1488844</td>\n",
       "      <td>1</td>\n",
       "      <td>3</td>\n",
       "    </tr>\n",
       "    <tr>\n",
       "      <th>1</th>\n",
       "      <td>822109</td>\n",
       "      <td>1</td>\n",
       "      <td>5</td>\n",
       "    </tr>\n",
       "    <tr>\n",
       "      <th>2</th>\n",
       "      <td>885013</td>\n",
       "      <td>1</td>\n",
       "      <td>4</td>\n",
       "    </tr>\n",
       "    <tr>\n",
       "      <th>3</th>\n",
       "      <td>30878</td>\n",
       "      <td>1</td>\n",
       "      <td>4</td>\n",
       "    </tr>\n",
       "    <tr>\n",
       "      <th>4</th>\n",
       "      <td>823519</td>\n",
       "      <td>1</td>\n",
       "      <td>3</td>\n",
       "    </tr>\n",
       "  </tbody>\n",
       "</table>\n",
       "</div>"
      ],
      "text/plain": [
       "   user_id movie_id  rating\n",
       "0  1488844        1       3\n",
       "1   822109        1       5\n",
       "2   885013        1       4\n",
       "3    30878        1       4\n",
       "4   823519        1       3"
      ]
     },
     "execution_count": 5,
     "metadata": {},
     "output_type": "execute_result"
    }
   ],
   "source": [
    "df.head()"
   ]
  },
  {
   "cell_type": "markdown",
   "id": "552e1b36",
   "metadata": {
    "papermill": {
     "duration": 0.038921,
     "end_time": "2022-04-02T14:59:06.705580",
     "exception": false,
     "start_time": "2022-04-02T14:59:06.666659",
     "status": "completed"
    },
    "tags": []
   },
   "source": [
    "## Data Structure for Collaborative Filtering\n",
    "\n",
    "For collaborative filtering, we would typically seek to structure our data (at least conceptually) into a single matrix with rows corresponding to user_id, columns corresponding to movie_id, and the elements corresponding to the rating value. The size of the Netflix dataset makes this difficult to achieve through Pandas dataframes, however it is exemplified through a subset of data below. This should be visualized as the required data structure for new collaborative recommendation projects.\n",
    "\n",
    "It should be noted that recommender systems frequently deal with sparse datasets, similar to the one below, due to the fact that a single user is likely to only interact with a fraction of the potential products/content. Similarly any given product/content is likely to only receive ratings (explicit or implicit) from a fraction of the entire userbase."
   ]
  },
  {
   "cell_type": "code",
   "execution_count": 6,
   "id": "6f52b98c",
   "metadata": {
    "execution": {
     "iopub.execute_input": "2022-04-02T14:59:06.793897Z",
     "iopub.status.busy": "2022-04-02T14:59:06.791203Z",
     "iopub.status.idle": "2022-04-02T14:59:06.858267Z",
     "shell.execute_reply": "2022-04-02T14:59:06.858743Z",
     "shell.execute_reply.started": "2022-02-19T20:30:45.087106Z"
    },
    "papermill": {
     "duration": 0.113759,
     "end_time": "2022-04-02T14:59:06.858924",
     "exception": false,
     "start_time": "2022-04-02T14:59:06.745165",
     "status": "completed"
    },
    "tags": []
   },
   "outputs": [
    {
     "data": {
      "text/html": [
       "<div>\n",
       "<style scoped>\n",
       "    .dataframe tbody tr th:only-of-type {\n",
       "        vertical-align: middle;\n",
       "    }\n",
       "\n",
       "    .dataframe tbody tr th {\n",
       "        vertical-align: top;\n",
       "    }\n",
       "\n",
       "    .dataframe thead th {\n",
       "        text-align: right;\n",
       "    }\n",
       "</style>\n",
       "<table border=\"1\" class=\"dataframe\">\n",
       "  <thead>\n",
       "    <tr style=\"text-align: right;\">\n",
       "      <th>movie_id</th>\n",
       "      <th>1</th>\n",
       "      <th>2</th>\n",
       "      <th>3</th>\n",
       "      <th>4</th>\n",
       "      <th>5</th>\n",
       "      <th>6</th>\n",
       "      <th>7</th>\n",
       "      <th>8</th>\n",
       "    </tr>\n",
       "    <tr>\n",
       "      <th>user_id</th>\n",
       "      <th></th>\n",
       "      <th></th>\n",
       "      <th></th>\n",
       "      <th></th>\n",
       "      <th></th>\n",
       "      <th></th>\n",
       "      <th></th>\n",
       "      <th></th>\n",
       "    </tr>\n",
       "  </thead>\n",
       "  <tbody>\n",
       "    <tr>\n",
       "      <th>100006</th>\n",
       "      <td>NaN</td>\n",
       "      <td>NaN</td>\n",
       "      <td>3.0</td>\n",
       "      <td>NaN</td>\n",
       "      <td>NaN</td>\n",
       "      <td>NaN</td>\n",
       "      <td>NaN</td>\n",
       "      <td>NaN</td>\n",
       "    </tr>\n",
       "    <tr>\n",
       "      <th>100029</th>\n",
       "      <td>NaN</td>\n",
       "      <td>NaN</td>\n",
       "      <td>5.0</td>\n",
       "      <td>NaN</td>\n",
       "      <td>NaN</td>\n",
       "      <td>NaN</td>\n",
       "      <td>NaN</td>\n",
       "      <td>NaN</td>\n",
       "    </tr>\n",
       "    <tr>\n",
       "      <th>1000597</th>\n",
       "      <td>NaN</td>\n",
       "      <td>NaN</td>\n",
       "      <td>NaN</td>\n",
       "      <td>NaN</td>\n",
       "      <td>NaN</td>\n",
       "      <td>NaN</td>\n",
       "      <td>NaN</td>\n",
       "      <td>5.0</td>\n",
       "    </tr>\n",
       "    <tr>\n",
       "      <th>1000721</th>\n",
       "      <td>NaN</td>\n",
       "      <td>NaN</td>\n",
       "      <td>NaN</td>\n",
       "      <td>NaN</td>\n",
       "      <td>NaN</td>\n",
       "      <td>NaN</td>\n",
       "      <td>NaN</td>\n",
       "      <td>5.0</td>\n",
       "    </tr>\n",
       "    <tr>\n",
       "      <th>1000868</th>\n",
       "      <td>NaN</td>\n",
       "      <td>NaN</td>\n",
       "      <td>NaN</td>\n",
       "      <td>NaN</td>\n",
       "      <td>NaN</td>\n",
       "      <td>NaN</td>\n",
       "      <td>NaN</td>\n",
       "      <td>1.0</td>\n",
       "    </tr>\n",
       "    <tr>\n",
       "      <th>...</th>\n",
       "      <td>...</td>\n",
       "      <td>...</td>\n",
       "      <td>...</td>\n",
       "      <td>...</td>\n",
       "      <td>...</td>\n",
       "      <td>...</td>\n",
       "      <td>...</td>\n",
       "      <td>...</td>\n",
       "    </tr>\n",
       "    <tr>\n",
       "      <th>999312</th>\n",
       "      <td>NaN</td>\n",
       "      <td>NaN</td>\n",
       "      <td>NaN</td>\n",
       "      <td>NaN</td>\n",
       "      <td>4.0</td>\n",
       "      <td>NaN</td>\n",
       "      <td>NaN</td>\n",
       "      <td>NaN</td>\n",
       "    </tr>\n",
       "    <tr>\n",
       "      <th>999362</th>\n",
       "      <td>NaN</td>\n",
       "      <td>NaN</td>\n",
       "      <td>NaN</td>\n",
       "      <td>NaN</td>\n",
       "      <td>NaN</td>\n",
       "      <td>NaN</td>\n",
       "      <td>NaN</td>\n",
       "      <td>2.0</td>\n",
       "    </tr>\n",
       "    <tr>\n",
       "      <th>999444</th>\n",
       "      <td>NaN</td>\n",
       "      <td>NaN</td>\n",
       "      <td>4.0</td>\n",
       "      <td>NaN</td>\n",
       "      <td>NaN</td>\n",
       "      <td>NaN</td>\n",
       "      <td>NaN</td>\n",
       "      <td>NaN</td>\n",
       "    </tr>\n",
       "    <tr>\n",
       "      <th>999463</th>\n",
       "      <td>NaN</td>\n",
       "      <td>NaN</td>\n",
       "      <td>NaN</td>\n",
       "      <td>NaN</td>\n",
       "      <td>NaN</td>\n",
       "      <td>NaN</td>\n",
       "      <td>NaN</td>\n",
       "      <td>3.0</td>\n",
       "    </tr>\n",
       "    <tr>\n",
       "      <th>999901</th>\n",
       "      <td>NaN</td>\n",
       "      <td>NaN</td>\n",
       "      <td>NaN</td>\n",
       "      <td>NaN</td>\n",
       "      <td>NaN</td>\n",
       "      <td>NaN</td>\n",
       "      <td>NaN</td>\n",
       "      <td>5.0</td>\n",
       "    </tr>\n",
       "  </tbody>\n",
       "</table>\n",
       "<p>9627 rows × 8 columns</p>\n",
       "</div>"
      ],
      "text/plain": [
       "movie_id   1   2    3   4    5   6   7    8\n",
       "user_id                                    \n",
       "100006   NaN NaN  3.0 NaN  NaN NaN NaN  NaN\n",
       "100029   NaN NaN  5.0 NaN  NaN NaN NaN  NaN\n",
       "1000597  NaN NaN  NaN NaN  NaN NaN NaN  5.0\n",
       "1000721  NaN NaN  NaN NaN  NaN NaN NaN  5.0\n",
       "1000868  NaN NaN  NaN NaN  NaN NaN NaN  1.0\n",
       "...       ..  ..  ...  ..  ...  ..  ..  ...\n",
       "999312   NaN NaN  NaN NaN  4.0 NaN NaN  NaN\n",
       "999362   NaN NaN  NaN NaN  NaN NaN NaN  2.0\n",
       "999444   NaN NaN  4.0 NaN  NaN NaN NaN  NaN\n",
       "999463   NaN NaN  NaN NaN  NaN NaN NaN  3.0\n",
       "999901   NaN NaN  NaN NaN  NaN NaN NaN  5.0\n",
       "\n",
       "[9627 rows x 8 columns]"
      ]
     },
     "execution_count": 6,
     "metadata": {},
     "output_type": "execute_result"
    }
   ],
   "source": [
    "df_sub = df.iloc[0:10000, ]\n",
    "pd.pivot_table(data=df_sub, values = 'rating', index='user_id', columns='movie_id')"
   ]
  },
  {
   "cell_type": "code",
   "execution_count": 7,
   "id": "7c30401f",
   "metadata": {
    "execution": {
     "iopub.execute_input": "2022-04-02T14:59:06.949377Z",
     "iopub.status.busy": "2022-04-02T14:59:06.948356Z",
     "iopub.status.idle": "2022-04-02T14:59:07.022186Z",
     "shell.execute_reply": "2022-04-02T14:59:07.021480Z",
     "shell.execute_reply.started": "2022-02-19T20:30:50.357057Z"
    },
    "papermill": {
     "duration": 0.119366,
     "end_time": "2022-04-02T14:59:07.022329",
     "exception": false,
     "start_time": "2022-04-02T14:59:06.902963",
     "status": "completed"
    },
    "tags": []
   },
   "outputs": [
    {
     "data": {
      "text/html": [
       "<div>\n",
       "<style scoped>\n",
       "    .dataframe tbody tr th:only-of-type {\n",
       "        vertical-align: middle;\n",
       "    }\n",
       "\n",
       "    .dataframe tbody tr th {\n",
       "        vertical-align: top;\n",
       "    }\n",
       "\n",
       "    .dataframe thead th {\n",
       "        text-align: right;\n",
       "    }\n",
       "</style>\n",
       "<table border=\"1\" class=\"dataframe\">\n",
       "  <thead>\n",
       "    <tr style=\"text-align: right;\">\n",
       "      <th></th>\n",
       "      <th>movie_id</th>\n",
       "      <th>year</th>\n",
       "      <th>title</th>\n",
       "    </tr>\n",
       "  </thead>\n",
       "  <tbody>\n",
       "    <tr>\n",
       "      <th>0</th>\n",
       "      <td>1</td>\n",
       "      <td>2003.0</td>\n",
       "      <td>Dinosaur Planet</td>\n",
       "    </tr>\n",
       "    <tr>\n",
       "      <th>1</th>\n",
       "      <td>2</td>\n",
       "      <td>2004.0</td>\n",
       "      <td>Isle of Man TT 2004 Review</td>\n",
       "    </tr>\n",
       "    <tr>\n",
       "      <th>2</th>\n",
       "      <td>3</td>\n",
       "      <td>1997.0</td>\n",
       "      <td>Character</td>\n",
       "    </tr>\n",
       "    <tr>\n",
       "      <th>3</th>\n",
       "      <td>4</td>\n",
       "      <td>1994.0</td>\n",
       "      <td>Paula Abdul's Get Up &amp; Dance</td>\n",
       "    </tr>\n",
       "    <tr>\n",
       "      <th>4</th>\n",
       "      <td>5</td>\n",
       "      <td>2004.0</td>\n",
       "      <td>The Rise and Fall of ECW</td>\n",
       "    </tr>\n",
       "  </tbody>\n",
       "</table>\n",
       "</div>"
      ],
      "text/plain": [
       "  movie_id    year                         title\n",
       "0        1  2003.0               Dinosaur Planet\n",
       "1        2  2004.0    Isle of Man TT 2004 Review\n",
       "2        3  1997.0                     Character\n",
       "3        4  1994.0  Paula Abdul's Get Up & Dance\n",
       "4        5  2004.0      The Rise and Fall of ECW"
      ]
     },
     "execution_count": 7,
     "metadata": {},
     "output_type": "execute_result"
    }
   ],
   "source": [
    "# Movie Titles\n",
    "df_titles = pd.read_csv('../input/netflix-prize-data/movie_titles.csv', names=['movie_id', 'year', 'title'], header=None, encoding = \"ISO-8859-1\")\n",
    "df_titles['movie_id'] = df_titles['movie_id'].astype(str)\n",
    "df_titles.head()"
   ]
  },
  {
   "cell_type": "markdown",
   "id": "f520a52a",
   "metadata": {
    "papermill": {
     "duration": 0.040374,
     "end_time": "2022-04-02T14:59:07.104099",
     "exception": false,
     "start_time": "2022-04-02T14:59:07.063725",
     "status": "completed"
    },
    "tags": []
   },
   "source": [
    "# EDA\n",
    "Obtain preliminary sense for: \n",
    "- Unique Customer Count\n",
    "- Unique Movie Count\n",
    "- Rating Distribution"
   ]
  },
  {
   "cell_type": "code",
   "execution_count": 8,
   "id": "00c7d6f6",
   "metadata": {
    "execution": {
     "iopub.execute_input": "2022-04-02T14:59:09.918754Z",
     "iopub.status.busy": "2022-04-02T14:59:09.918056Z",
     "iopub.status.idle": "2022-04-02T14:59:15.489686Z",
     "shell.execute_reply": "2022-04-02T14:59:15.489120Z",
     "shell.execute_reply.started": "2022-02-19T20:30:54.50819Z"
    },
    "papermill": {
     "duration": 8.343584,
     "end_time": "2022-04-02T14:59:15.489827",
     "exception": false,
     "start_time": "2022-04-02T14:59:07.146243",
     "status": "completed"
    },
    "tags": []
   },
   "outputs": [
    {
     "name": "stdout",
     "output_type": "stream",
     "text": [
      "Movie ID - Nulls: 0\n",
      "User ID - Nulls: 0\n",
      "User ID - Nulls: 0\n"
     ]
    }
   ],
   "source": [
    "# Very no null values\n",
    "null_movie = df[df['movie_id'].isnull()]['movie_id'].count()\n",
    "null_user = df[df['user_id'].isnull()]['user_id'].count()\n",
    "null_rating = df[df['rating'].isnull()]['rating'].count()\n",
    "\n",
    "print(f'Movie ID - Nulls: {null_movie}')\n",
    "print(f'User ID - Nulls: {null_user}')\n",
    "print(f'User ID - Nulls: {null_rating}')"
   ]
  },
  {
   "cell_type": "code",
   "execution_count": 9,
   "id": "75f6e2da",
   "metadata": {
    "execution": {
     "iopub.execute_input": "2022-04-02T14:59:17.942136Z",
     "iopub.status.busy": "2022-04-02T14:59:15.574546Z",
     "iopub.status.idle": "2022-04-02T14:59:25.068025Z",
     "shell.execute_reply": "2022-04-02T14:59:25.066995Z",
     "shell.execute_reply.started": "2022-02-19T20:17:08.466295Z"
    },
    "papermill": {
     "duration": 9.536878,
     "end_time": "2022-04-02T14:59:25.068181",
     "exception": false,
     "start_time": "2022-04-02T14:59:15.531303",
     "status": "completed"
    },
    "tags": []
   },
   "outputs": [
    {
     "name": "stdout",
     "output_type": "stream",
     "text": [
      "Unique Movie IDs: 4499\n",
      "Unique User IDs: 470758\n"
     ]
    }
   ],
   "source": [
    "# Very no null values\n",
    "unique_movie = df['movie_id'].nunique()\n",
    "unique_user = df['user_id'].nunique()\n",
    "\n",
    "print(f'Unique Movie IDs: {unique_movie}')\n",
    "print(f'Unique User IDs: {unique_user}')"
   ]
  },
  {
   "cell_type": "code",
   "execution_count": 10,
   "id": "a4887a83",
   "metadata": {
    "execution": {
     "iopub.execute_input": "2022-04-02T14:59:25.165465Z",
     "iopub.status.busy": "2022-04-02T14:59:25.164166Z",
     "iopub.status.idle": "2022-04-02T14:59:25.725529Z",
     "shell.execute_reply": "2022-04-02T14:59:25.726233Z",
     "shell.execute_reply.started": "2022-02-19T20:17:19.074925Z"
    },
    "papermill": {
     "duration": 0.611789,
     "end_time": "2022-04-02T14:59:25.726418",
     "exception": false,
     "start_time": "2022-04-02T14:59:25.114629",
     "status": "completed"
    },
    "tags": []
   },
   "outputs": [
    {
     "data": {
      "text/html": [
       "<div>\n",
       "<style scoped>\n",
       "    .dataframe tbody tr th:only-of-type {\n",
       "        vertical-align: middle;\n",
       "    }\n",
       "\n",
       "    .dataframe tbody tr th {\n",
       "        vertical-align: top;\n",
       "    }\n",
       "\n",
       "    .dataframe thead th {\n",
       "        text-align: right;\n",
       "    }\n",
       "</style>\n",
       "<table border=\"1\" class=\"dataframe\">\n",
       "  <thead>\n",
       "    <tr style=\"text-align: right;\">\n",
       "      <th></th>\n",
       "      <th>count</th>\n",
       "    </tr>\n",
       "    <tr>\n",
       "      <th>rating</th>\n",
       "      <th></th>\n",
       "    </tr>\n",
       "  </thead>\n",
       "  <tbody>\n",
       "    <tr>\n",
       "      <th>1</th>\n",
       "      <td>0.046487</td>\n",
       "    </tr>\n",
       "    <tr>\n",
       "      <th>2</th>\n",
       "      <td>0.101401</td>\n",
       "    </tr>\n",
       "    <tr>\n",
       "      <th>3</th>\n",
       "      <td>0.287031</td>\n",
       "    </tr>\n",
       "    <tr>\n",
       "      <th>4</th>\n",
       "      <td>0.336153</td>\n",
       "    </tr>\n",
       "    <tr>\n",
       "      <th>5</th>\n",
       "      <td>0.228928</td>\n",
       "    </tr>\n",
       "  </tbody>\n",
       "</table>\n",
       "</div>"
      ],
      "text/plain": [
       "           count\n",
       "rating          \n",
       "1       0.046487\n",
       "2       0.101401\n",
       "3       0.287031\n",
       "4       0.336153\n",
       "5       0.228928"
      ]
     },
     "execution_count": 10,
     "metadata": {},
     "output_type": "execute_result"
    }
   ],
   "source": [
    "# Rating Distribution\n",
    "dist_rating = df.groupby('rating')['rating'].agg(['count'])\n",
    "dist_rating / dist_rating.sum() #Display percentage"
   ]
  },
  {
   "cell_type": "code",
   "execution_count": 11,
   "id": "7baf4c88",
   "metadata": {
    "execution": {
     "iopub.execute_input": "2022-04-02T14:59:25.824630Z",
     "iopub.status.busy": "2022-04-02T14:59:25.823874Z",
     "iopub.status.idle": "2022-04-02T14:59:28.934843Z",
     "shell.execute_reply": "2022-04-02T14:59:28.935285Z",
     "shell.execute_reply.started": "2022-02-19T20:31:51.644482Z"
    },
    "papermill": {
     "duration": 3.160078,
     "end_time": "2022-04-02T14:59:28.935456",
     "exception": false,
     "start_time": "2022-04-02T14:59:25.775378",
     "status": "completed"
    },
    "tags": []
   },
   "outputs": [
    {
     "data": {
      "text/plain": [
       "array(['1', '2', '3', '4', '5', '6', '7', '8', '9', '10'], dtype=object)"
      ]
     },
     "execution_count": 11,
     "metadata": {},
     "output_type": "execute_result"
    }
   ],
   "source": [
    "# List of all movie_ids\n",
    "movie_list = df['movie_id'].unique()\n",
    "movie_list[0:10]"
   ]
  },
  {
   "cell_type": "markdown",
   "id": "1a0756e7",
   "metadata": {
    "papermill": {
     "duration": 0.041665,
     "end_time": "2022-04-02T14:59:29.019175",
     "exception": false,
     "start_time": "2022-04-02T14:59:28.977510",
     "status": "completed"
    },
    "tags": []
   },
   "source": [
    "# Additonal Evaluation & Analysis\n",
    "\n",
    "* Get list of past \"likes\" (or other specified rating) for a given user"
   ]
  },
  {
   "cell_type": "code",
   "execution_count": 12,
   "id": "f23ee512",
   "metadata": {
    "execution": {
     "iopub.execute_input": "2022-04-02T14:59:29.105870Z",
     "iopub.status.busy": "2022-04-02T14:59:29.105214Z",
     "iopub.status.idle": "2022-04-02T14:59:29.110540Z",
     "shell.execute_reply": "2022-04-02T14:59:29.111163Z",
     "shell.execute_reply.started": "2022-02-19T20:31:55.735312Z"
    },
    "papermill": {
     "duration": 0.05034,
     "end_time": "2022-04-02T14:59:29.111326",
     "exception": false,
     "start_time": "2022-04-02T14:59:29.060986",
     "status": "completed"
    },
    "tags": []
   },
   "outputs": [],
   "source": [
    "def map_names(df):\n",
    "    ## This function maps the movie_id from the primary dataframe to the movie name and release year in the movie titles dataframe\n",
    "    \n",
    "    res_df = pd.merge(df, df_titles, on='movie_id', how='left')\n",
    "    return res_df\n",
    "\n",
    "def get_past_likes(df, user_id, score = 5):\n",
    "    ## This function returns all movies that a given user has scored a particular value (likes, or dislikes as specified)\n",
    "    \n",
    "    # Get 'likes'\n",
    "    df_user_likes = df[(df['user_id']==user_id) & (df['rating']==score)]\n",
    "    # Map Title\n",
    "    df_user_likes = map_names(df_user_likes)\n",
    "    return df_user_likes"
   ]
  },
  {
   "cell_type": "code",
   "execution_count": 13,
   "id": "ec1395b6",
   "metadata": {
    "execution": {
     "iopub.execute_input": "2022-04-02T14:59:29.198641Z",
     "iopub.status.busy": "2022-04-02T14:59:29.197953Z",
     "iopub.status.idle": "2022-04-02T14:59:33.186551Z",
     "shell.execute_reply": "2022-04-02T14:59:33.186003Z",
     "shell.execute_reply.started": "2022-02-19T20:31:56.059055Z"
    },
    "papermill": {
     "duration": 4.033472,
     "end_time": "2022-04-02T14:59:33.186721",
     "exception": false,
     "start_time": "2022-04-02T14:59:29.153249",
     "status": "completed"
    },
    "tags": []
   },
   "outputs": [
    {
     "data": {
      "text/html": [
       "<div>\n",
       "<style scoped>\n",
       "    .dataframe tbody tr th:only-of-type {\n",
       "        vertical-align: middle;\n",
       "    }\n",
       "\n",
       "    .dataframe tbody tr th {\n",
       "        vertical-align: top;\n",
       "    }\n",
       "\n",
       "    .dataframe thead th {\n",
       "        text-align: right;\n",
       "    }\n",
       "</style>\n",
       "<table border=\"1\" class=\"dataframe\">\n",
       "  <thead>\n",
       "    <tr style=\"text-align: right;\">\n",
       "      <th></th>\n",
       "      <th>user_id</th>\n",
       "      <th>movie_id</th>\n",
       "      <th>rating</th>\n",
       "      <th>year</th>\n",
       "      <th>title</th>\n",
       "    </tr>\n",
       "  </thead>\n",
       "  <tbody>\n",
       "    <tr>\n",
       "      <th>0</th>\n",
       "      <td>1488844</td>\n",
       "      <td>8</td>\n",
       "      <td>4</td>\n",
       "      <td>2004.0</td>\n",
       "      <td>What the #$*! Do We Know!?</td>\n",
       "    </tr>\n",
       "    <tr>\n",
       "      <th>1</th>\n",
       "      <td>1488844</td>\n",
       "      <td>195</td>\n",
       "      <td>4</td>\n",
       "      <td>2004.0</td>\n",
       "      <td>Chasing Freedom</td>\n",
       "    </tr>\n",
       "    <tr>\n",
       "      <th>2</th>\n",
       "      <td>1488844</td>\n",
       "      <td>268</td>\n",
       "      <td>4</td>\n",
       "      <td>1980.0</td>\n",
       "      <td>The Final Countdown</td>\n",
       "    </tr>\n",
       "    <tr>\n",
       "      <th>3</th>\n",
       "      <td>1488844</td>\n",
       "      <td>270</td>\n",
       "      <td>4</td>\n",
       "      <td>2001.0</td>\n",
       "      <td>Sex and the City: Season 4</td>\n",
       "    </tr>\n",
       "    <tr>\n",
       "      <th>4</th>\n",
       "      <td>1488844</td>\n",
       "      <td>285</td>\n",
       "      <td>4</td>\n",
       "      <td>1997.0</td>\n",
       "      <td>The Devil's Own</td>\n",
       "    </tr>\n",
       "    <tr>\n",
       "      <th>...</th>\n",
       "      <td>...</td>\n",
       "      <td>...</td>\n",
       "      <td>...</td>\n",
       "      <td>...</td>\n",
       "      <td>...</td>\n",
       "    </tr>\n",
       "    <tr>\n",
       "      <th>111</th>\n",
       "      <td>1488844</td>\n",
       "      <td>4330</td>\n",
       "      <td>4</td>\n",
       "      <td>1995.0</td>\n",
       "      <td>While You Were Sleeping</td>\n",
       "    </tr>\n",
       "    <tr>\n",
       "      <th>112</th>\n",
       "      <td>1488844</td>\n",
       "      <td>4341</td>\n",
       "      <td>4</td>\n",
       "      <td>2002.0</td>\n",
       "      <td>The Scorpion King</td>\n",
       "    </tr>\n",
       "    <tr>\n",
       "      <th>113</th>\n",
       "      <td>1488844</td>\n",
       "      <td>4364</td>\n",
       "      <td>4</td>\n",
       "      <td>1976.0</td>\n",
       "      <td>Network</td>\n",
       "    </tr>\n",
       "    <tr>\n",
       "      <th>114</th>\n",
       "      <td>1488844</td>\n",
       "      <td>4389</td>\n",
       "      <td>4</td>\n",
       "      <td>2003.0</td>\n",
       "      <td>A Man Apart</td>\n",
       "    </tr>\n",
       "    <tr>\n",
       "      <th>115</th>\n",
       "      <td>1488844</td>\n",
       "      <td>4468</td>\n",
       "      <td>4</td>\n",
       "      <td>1998.0</td>\n",
       "      <td>Frasier: Season 6</td>\n",
       "    </tr>\n",
       "  </tbody>\n",
       "</table>\n",
       "<p>116 rows × 5 columns</p>\n",
       "</div>"
      ],
      "text/plain": [
       "     user_id movie_id  rating    year                       title\n",
       "0    1488844        8       4  2004.0  What the #$*! Do We Know!?\n",
       "1    1488844      195       4  2004.0             Chasing Freedom\n",
       "2    1488844      268       4  1980.0         The Final Countdown\n",
       "3    1488844      270       4  2001.0  Sex and the City: Season 4\n",
       "4    1488844      285       4  1997.0             The Devil's Own\n",
       "..       ...      ...     ...     ...                         ...\n",
       "111  1488844     4330       4  1995.0     While You Were Sleeping\n",
       "112  1488844     4341       4  2002.0           The Scorpion King\n",
       "113  1488844     4364       4  1976.0                     Network\n",
       "114  1488844     4389       4  2003.0                 A Man Apart\n",
       "115  1488844     4468       4  1998.0           Frasier: Season 6\n",
       "\n",
       "[116 rows x 5 columns]"
      ]
     },
     "execution_count": 13,
     "metadata": {},
     "output_type": "execute_result"
    }
   ],
   "source": [
    "# Example of past likes (score = 4)\n",
    "get_past_likes(df, user_id = '1488844', score = 4)"
   ]
  },
  {
   "cell_type": "markdown",
   "id": "5b1184c4",
   "metadata": {
    "papermill": {
     "duration": 0.042435,
     "end_time": "2022-04-02T14:59:33.274582",
     "exception": false,
     "start_time": "2022-04-02T14:59:33.232147",
     "status": "completed"
    },
    "tags": []
   },
   "source": [
    "# Singular Value Decomposition / Collaborative Filtering\n"
   ]
  },
  {
   "cell_type": "markdown",
   "id": "373350ec",
   "metadata": {
    "papermill": {
     "duration": 0.042273,
     "end_time": "2022-04-02T14:59:33.359762",
     "exception": false,
     "start_time": "2022-04-02T14:59:33.317489",
     "status": "completed"
    },
    "tags": []
   },
   "source": [
    "As previously discussed, the basic intuition behind collaborative filtering is that if User1 and User2 both like items A, B, C, then if User1 also likes item D we would expect that User2 would like it as well. Bilinear prediction of the target variable (i.e. \"like\", \"rating\") is a simple parametric method that has been highly successful. Additionally, we seek to organize the data such into a matrix $R$ such that rows correspond to users, columns correspond to products/content, and elements correspond to ratings.\n",
    "\n",
    "We can let $\\hat{R}$ be a matrix containing our predictions, $A$ be a matrix with user embeddings in its rows, and $B$ be a matrix with item embeddings in its columns. Then our prediction of rating for a given user, item is: \n",
    "\n",
    "$$\n",
    "\\hat{R}_{u,i} = b_u + c_i + \\sum_{j}A_{u,j} B_{j,i}\n",
    "$$\n",
    "\n",
    "These embeddings can be obtained through singular value decomposition (SVD) on the matrix $R$ (actual ratings). The rows in the $R$ matrix correspond to items (i.e. movies) and the columns correspond to users. SVD is the factorization of one matrix into three matrices:\n",
    "\n",
    "$$\n",
    "R = U \\Sigma V^T\n",
    "$$\n",
    "\n",
    "However, from our rating matrix, $R$, we can define:\n",
    "\n",
    "$$\n",
    "A = U\\Sigma\n",
    "$$\n",
    "$$\n",
    "B = V^T\n",
    "$$\n",
    "\n"
   ]
  },
  {
   "cell_type": "code",
   "execution_count": 14,
   "id": "1aa0bca2",
   "metadata": {
    "execution": {
     "iopub.execute_input": "2022-04-02T14:59:33.450197Z",
     "iopub.status.busy": "2022-04-02T14:59:33.449470Z",
     "iopub.status.idle": "2022-04-02T14:59:33.452158Z",
     "shell.execute_reply": "2022-04-02T14:59:33.451627Z",
     "shell.execute_reply.started": "2022-02-19T20:20:06.961788Z"
    },
    "papermill": {
     "duration": 0.049292,
     "end_time": "2022-04-02T14:59:33.452299",
     "exception": false,
     "start_time": "2022-04-02T14:59:33.403007",
     "status": "completed"
    },
    "tags": []
   },
   "outputs": [],
   "source": [
    "# from surprise import Reader, Dataset, SVD\n",
    "# from surprise.model_selection import cross_validate"
   ]
  },
  {
   "cell_type": "code",
   "execution_count": 15,
   "id": "b4ff52a9",
   "metadata": {
    "execution": {
     "iopub.execute_input": "2022-04-02T14:59:33.786807Z",
     "iopub.status.busy": "2022-04-02T14:59:33.786100Z",
     "iopub.status.idle": "2022-04-02T15:01:06.351236Z",
     "shell.execute_reply": "2022-04-02T15:01:06.350371Z",
     "shell.execute_reply.started": "2022-02-19T20:32:13.777466Z"
    },
    "papermill": {
     "duration": 92.85632,
     "end_time": "2022-04-02T15:01:06.351414",
     "exception": false,
     "start_time": "2022-04-02T14:59:33.495094",
     "status": "completed"
    },
    "tags": []
   },
   "outputs": [],
   "source": [
    "# Load Data\n",
    "reader = Reader(rating_scale=(1,5))\n",
    "data = Dataset.load_from_df(df[['user_id', 'movie_id', 'rating']], reader)\n",
    "\n",
    "train = data.build_full_trainset()"
   ]
  },
  {
   "cell_type": "code",
   "execution_count": 16,
   "id": "87e1de9b",
   "metadata": {
    "execution": {
     "iopub.execute_input": "2022-04-02T15:01:06.475166Z",
     "iopub.status.busy": "2022-04-02T15:01:06.474046Z",
     "iopub.status.idle": "2022-04-02T15:01:06.476536Z",
     "shell.execute_reply": "2022-04-02T15:01:06.477067Z",
     "shell.execute_reply.started": "2022-02-19T20:34:47.34989Z"
    },
    "papermill": {
     "duration": 0.074859,
     "end_time": "2022-04-02T15:01:06.477255",
     "exception": false,
     "start_time": "2022-04-02T15:01:06.402396",
     "status": "completed"
    },
    "tags": []
   },
   "outputs": [],
   "source": [
    "# Define Model\n",
    "svd = SVD(n_epochs=10, n_factors=50) #Default: n_epochs = 20, n_features = 100"
   ]
  },
  {
   "cell_type": "code",
   "execution_count": 17,
   "id": "38a3eb92",
   "metadata": {
    "execution": {
     "iopub.execute_input": "2022-04-02T15:01:06.571154Z",
     "iopub.status.busy": "2022-04-02T15:01:06.570197Z",
     "iopub.status.idle": "2022-04-02T15:01:06.572755Z",
     "shell.execute_reply": "2022-04-02T15:01:06.573246Z",
     "shell.execute_reply.started": "2022-02-19T19:39:29.301005Z"
    },
    "papermill": {
     "duration": 0.051193,
     "end_time": "2022-04-02T15:01:06.573432",
     "exception": false,
     "start_time": "2022-04-02T15:01:06.522239",
     "status": "completed"
    },
    "tags": []
   },
   "outputs": [],
   "source": [
    "# Cross Validation to Estimate Error -- Optional (time consuming)\n",
    "# Note: cross_validate() works on data, not the full trainset - they are different datastructures\n",
    "\n",
    "#cross_validate(svd, data, measures=['RMSE', 'MAE'], cv=5, verbose=True)"
   ]
  },
  {
   "cell_type": "code",
   "execution_count": 18,
   "id": "c050422a",
   "metadata": {
    "execution": {
     "iopub.execute_input": "2022-04-02T15:01:06.669389Z",
     "iopub.status.busy": "2022-04-02T15:01:06.668389Z",
     "iopub.status.idle": "2022-04-02T15:15:47.474866Z",
     "shell.execute_reply": "2022-04-02T15:15:47.475396Z",
     "shell.execute_reply.started": "2022-02-19T20:34:51.088339Z"
    },
    "papermill": {
     "duration": 880.858653,
     "end_time": "2022-04-02T15:15:47.475579",
     "exception": false,
     "start_time": "2022-04-02T15:01:06.616926",
     "status": "completed"
    },
    "tags": []
   },
   "outputs": [
    {
     "data": {
      "text/plain": [
       "<surprise.prediction_algorithms.matrix_factorization.SVD at 0x7f48f9f19950>"
      ]
     },
     "execution_count": 18,
     "metadata": {},
     "output_type": "execute_result"
    }
   ],
   "source": [
    "# Fit Model\n",
    "svd.fit(train)"
   ]
  },
  {
   "cell_type": "code",
   "execution_count": 19,
   "id": "272efe0d",
   "metadata": {
    "execution": {
     "iopub.execute_input": "2022-04-02T15:15:47.567077Z",
     "iopub.status.busy": "2022-04-02T15:15:47.566084Z",
     "iopub.status.idle": "2022-04-02T15:15:47.573551Z",
     "shell.execute_reply": "2022-04-02T15:15:47.574241Z",
     "shell.execute_reply.started": "2022-02-19T20:50:07.783884Z"
    },
    "papermill": {
     "duration": 0.055354,
     "end_time": "2022-04-02T15:15:47.574422",
     "exception": false,
     "start_time": "2022-04-02T15:15:47.519068",
     "status": "completed"
    },
    "tags": []
   },
   "outputs": [
    {
     "data": {
      "text/plain": [
       "Prediction(uid=1488844, iid=270, r_ui=None, est=3.5996343025565563, details={'was_impossible': False})"
      ]
     },
     "execution_count": 19,
     "metadata": {},
     "output_type": "execute_result"
    }
   ],
   "source": [
    "# Example Prediction (user_id, movie_id)\n",
    "svd.predict(1488844, 270)"
   ]
  },
  {
   "cell_type": "markdown",
   "id": "effe03d3",
   "metadata": {
    "papermill": {
     "duration": 0.044379,
     "end_time": "2022-04-02T15:15:47.663262",
     "exception": false,
     "start_time": "2022-04-02T15:15:47.618883",
     "status": "completed"
    },
    "tags": []
   },
   "source": [
    "### SVD Estimates for Past Ratings"
   ]
  },
  {
   "cell_type": "code",
   "execution_count": 20,
   "id": "dfa04f31",
   "metadata": {
    "execution": {
     "iopub.execute_input": "2022-04-02T15:15:47.761019Z",
     "iopub.status.busy": "2022-04-02T15:15:47.760168Z",
     "iopub.status.idle": "2022-04-02T15:15:47.763108Z",
     "shell.execute_reply": "2022-04-02T15:15:47.762531Z",
     "shell.execute_reply.started": "2022-02-19T20:50:07.793711Z"
    },
    "papermill": {
     "duration": 0.055398,
     "end_time": "2022-04-02T15:15:47.763251",
     "exception": false,
     "start_time": "2022-04-02T15:15:47.707853",
     "status": "completed"
    },
    "tags": []
   },
   "outputs": [],
   "source": [
    "def score_past_ratings(user_id):\n",
    "    ## This function provides ratings estimates for all movies previously rated by a given user\n",
    "    \n",
    "    # Get subset of single user movie ratings \n",
    "    df_user = map_names(df[df['user_id']==user_id])\n",
    "    # Get Estimates\n",
    "    df_user['estimate'] = df_user['movie_id'].apply(lambda x: svd.predict(user_id, x).est)\n",
    "    df_user = df_user.sort_values(by='estimate', ascending = False)\n",
    "    \n",
    "    return df_user"
   ]
  },
  {
   "cell_type": "code",
   "execution_count": 21,
   "id": "03a43fc3",
   "metadata": {
    "execution": {
     "iopub.execute_input": "2022-04-02T15:15:51.604669Z",
     "iopub.status.busy": "2022-04-02T15:15:51.603558Z",
     "iopub.status.idle": "2022-04-02T15:15:51.641366Z",
     "shell.execute_reply": "2022-04-02T15:15:51.640770Z",
     "shell.execute_reply.started": "2022-02-19T20:50:07.806977Z"
    },
    "papermill": {
     "duration": 3.832536,
     "end_time": "2022-04-02T15:15:51.641518",
     "exception": false,
     "start_time": "2022-04-02T15:15:47.808982",
     "status": "completed"
    },
    "tags": []
   },
   "outputs": [
    {
     "data": {
      "text/html": [
       "<div>\n",
       "<style scoped>\n",
       "    .dataframe tbody tr th:only-of-type {\n",
       "        vertical-align: middle;\n",
       "    }\n",
       "\n",
       "    .dataframe tbody tr th {\n",
       "        vertical-align: top;\n",
       "    }\n",
       "\n",
       "    .dataframe thead th {\n",
       "        text-align: right;\n",
       "    }\n",
       "</style>\n",
       "<table border=\"1\" class=\"dataframe\">\n",
       "  <thead>\n",
       "    <tr style=\"text-align: right;\">\n",
       "      <th></th>\n",
       "      <th>user_id</th>\n",
       "      <th>movie_id</th>\n",
       "      <th>rating</th>\n",
       "      <th>year</th>\n",
       "      <th>title</th>\n",
       "      <th>estimate</th>\n",
       "    </tr>\n",
       "  </thead>\n",
       "  <tbody>\n",
       "    <tr>\n",
       "      <th>6</th>\n",
       "      <td>785314</td>\n",
       "      <td>175</td>\n",
       "      <td>5</td>\n",
       "      <td>1992.0</td>\n",
       "      <td>Reservoir Dogs</td>\n",
       "      <td>4.249013</td>\n",
       "    </tr>\n",
       "    <tr>\n",
       "      <th>95</th>\n",
       "      <td>785314</td>\n",
       "      <td>2803</td>\n",
       "      <td>4</td>\n",
       "      <td>1995.0</td>\n",
       "      <td>Pride and Prejudice</td>\n",
       "      <td>4.242454</td>\n",
       "    </tr>\n",
       "    <tr>\n",
       "      <th>83</th>\n",
       "      <td>785314</td>\n",
       "      <td>2452</td>\n",
       "      <td>5</td>\n",
       "      <td>2001.0</td>\n",
       "      <td>Lord of the Rings: The Fellowship of the Ring</td>\n",
       "      <td>4.232521</td>\n",
       "    </tr>\n",
       "    <tr>\n",
       "      <th>69</th>\n",
       "      <td>785314</td>\n",
       "      <td>2122</td>\n",
       "      <td>5</td>\n",
       "      <td>1999.0</td>\n",
       "      <td>Being John Malkovich</td>\n",
       "      <td>4.221058</td>\n",
       "    </tr>\n",
       "    <tr>\n",
       "      <th>50</th>\n",
       "      <td>785314</td>\n",
       "      <td>1625</td>\n",
       "      <td>4</td>\n",
       "      <td>1986.0</td>\n",
       "      <td>Aliens: Collector's Edition</td>\n",
       "      <td>4.215230</td>\n",
       "    </tr>\n",
       "    <tr>\n",
       "      <th>...</th>\n",
       "      <td>...</td>\n",
       "      <td>...</td>\n",
       "      <td>...</td>\n",
       "      <td>...</td>\n",
       "      <td>...</td>\n",
       "      <td>...</td>\n",
       "    </tr>\n",
       "    <tr>\n",
       "      <th>149</th>\n",
       "      <td>785314</td>\n",
       "      <td>4216</td>\n",
       "      <td>1</td>\n",
       "      <td>2001.0</td>\n",
       "      <td>Jurassic Park III</td>\n",
       "      <td>2.649102</td>\n",
       "    </tr>\n",
       "    <tr>\n",
       "      <th>146</th>\n",
       "      <td>785314</td>\n",
       "      <td>4123</td>\n",
       "      <td>1</td>\n",
       "      <td>1998.0</td>\n",
       "      <td>Patch Adams</td>\n",
       "      <td>2.636572</td>\n",
       "    </tr>\n",
       "    <tr>\n",
       "      <th>143</th>\n",
       "      <td>785314</td>\n",
       "      <td>4056</td>\n",
       "      <td>2</td>\n",
       "      <td>2001.0</td>\n",
       "      <td>Planet of the Apes</td>\n",
       "      <td>2.584696</td>\n",
       "    </tr>\n",
       "    <tr>\n",
       "      <th>74</th>\n",
       "      <td>785314</td>\n",
       "      <td>2200</td>\n",
       "      <td>4</td>\n",
       "      <td>2002.0</td>\n",
       "      <td>Collateral Damage</td>\n",
       "      <td>2.479519</td>\n",
       "    </tr>\n",
       "    <tr>\n",
       "      <th>0</th>\n",
       "      <td>785314</td>\n",
       "      <td>8</td>\n",
       "      <td>1</td>\n",
       "      <td>2004.0</td>\n",
       "      <td>What the #$*! Do We Know!?</td>\n",
       "      <td>2.439660</td>\n",
       "    </tr>\n",
       "  </tbody>\n",
       "</table>\n",
       "<p>165 rows × 6 columns</p>\n",
       "</div>"
      ],
      "text/plain": [
       "    user_id movie_id  rating    year  \\\n",
       "6    785314      175       5  1992.0   \n",
       "95   785314     2803       4  1995.0   \n",
       "83   785314     2452       5  2001.0   \n",
       "69   785314     2122       5  1999.0   \n",
       "50   785314     1625       4  1986.0   \n",
       "..      ...      ...     ...     ...   \n",
       "149  785314     4216       1  2001.0   \n",
       "146  785314     4123       1  1998.0   \n",
       "143  785314     4056       2  2001.0   \n",
       "74   785314     2200       4  2002.0   \n",
       "0    785314        8       1  2004.0   \n",
       "\n",
       "                                             title  estimate  \n",
       "6                                   Reservoir Dogs  4.249013  \n",
       "95                             Pride and Prejudice  4.242454  \n",
       "83   Lord of the Rings: The Fellowship of the Ring  4.232521  \n",
       "69                            Being John Malkovich  4.221058  \n",
       "50                     Aliens: Collector's Edition  4.215230  \n",
       "..                                             ...       ...  \n",
       "149                              Jurassic Park III  2.649102  \n",
       "146                                    Patch Adams  2.636572  \n",
       "143                             Planet of the Apes  2.584696  \n",
       "74                               Collateral Damage  2.479519  \n",
       "0                       What the #$*! Do We Know!?  2.439660  \n",
       "\n",
       "[165 rows x 6 columns]"
      ]
     },
     "execution_count": 21,
     "metadata": {},
     "output_type": "execute_result"
    }
   ],
   "source": [
    "# Example Results\n",
    "score_past_ratings(user_id = '785314')"
   ]
  },
  {
   "cell_type": "markdown",
   "id": "d46a2142",
   "metadata": {
    "papermill": {
     "duration": 0.044676,
     "end_time": "2022-04-02T15:15:51.731111",
     "exception": false,
     "start_time": "2022-04-02T15:15:51.686435",
     "status": "completed"
    },
    "tags": []
   },
   "source": [
    "### SVD Estimates for New Movies - Collaborative Recommendations\n",
    "\n",
    "Calculate new movie recommendations for a given user. Note that the sorted list can also be used to infer which movies the user is not expected to rate highly."
   ]
  },
  {
   "cell_type": "code",
   "execution_count": 22,
   "id": "44c63f8f",
   "metadata": {
    "execution": {
     "iopub.execute_input": "2022-04-02T15:15:51.829749Z",
     "iopub.status.busy": "2022-04-02T15:15:51.829031Z",
     "iopub.status.idle": "2022-04-02T15:15:51.831806Z",
     "shell.execute_reply": "2022-04-02T15:15:51.831271Z",
     "shell.execute_reply.started": "2022-02-19T20:50:11.565883Z"
    },
    "papermill": {
     "duration": 0.055227,
     "end_time": "2022-04-02T15:15:51.831960",
     "exception": false,
     "start_time": "2022-04-02T15:15:51.776733",
     "status": "completed"
    },
    "tags": []
   },
   "outputs": [],
   "source": [
    "def user_new_movie_recommendations(user_id):\n",
    "    ## This function returns an ordered list of movie recommendations for a given user.\n",
    "    \n",
    "    # Get List of Movies User has not Rated\n",
    "    user_list = df[df['user_id']==user_id]\n",
    "    user_list = user_list['movie_id'].unique()\n",
    "    user_list = np.setdiff1d(movie_list, user_list)\n",
    "    \n",
    "    # User DF\n",
    "    df_movlist = pd.DataFrame(user_list, columns=['movie_id'])\n",
    "    # Predictions\n",
    "    df_movlist['estimate'] = df_movlist['movie_id'].apply(lambda x: svd.predict(user_id, x).est)\n",
    "    \n",
    "    # Sort & Map Names\n",
    "    df_movlist = df_movlist.sort_values(by='estimate', ascending = False)\n",
    "    df_movlist = map_names(df_movlist)\n",
    "    \n",
    "    return df_movlist\n"
   ]
  },
  {
   "cell_type": "code",
   "execution_count": 23,
   "id": "910669e4",
   "metadata": {
    "execution": {
     "iopub.execute_input": "2022-04-02T15:15:55.685104Z",
     "iopub.status.busy": "2022-04-02T15:15:55.684381Z",
     "iopub.status.idle": "2022-04-02T15:15:55.818972Z",
     "shell.execute_reply": "2022-04-02T15:15:55.818353Z",
     "shell.execute_reply.started": "2022-02-19T20:50:11.574226Z"
    },
    "papermill": {
     "duration": 3.938908,
     "end_time": "2022-04-02T15:15:55.819137",
     "exception": false,
     "start_time": "2022-04-02T15:15:51.880229",
     "status": "completed"
    },
    "tags": []
   },
   "outputs": [
    {
     "data": {
      "text/html": [
       "<div>\n",
       "<style scoped>\n",
       "    .dataframe tbody tr th:only-of-type {\n",
       "        vertical-align: middle;\n",
       "    }\n",
       "\n",
       "    .dataframe tbody tr th {\n",
       "        vertical-align: top;\n",
       "    }\n",
       "\n",
       "    .dataframe thead th {\n",
       "        text-align: right;\n",
       "    }\n",
       "</style>\n",
       "<table border=\"1\" class=\"dataframe\">\n",
       "  <thead>\n",
       "    <tr style=\"text-align: right;\">\n",
       "      <th></th>\n",
       "      <th>movie_id</th>\n",
       "      <th>estimate</th>\n",
       "      <th>year</th>\n",
       "      <th>title</th>\n",
       "    </tr>\n",
       "  </thead>\n",
       "  <tbody>\n",
       "    <tr>\n",
       "      <th>0</th>\n",
       "      <td>2019</td>\n",
       "      <td>4.571664</td>\n",
       "      <td>2004.0</td>\n",
       "      <td>Samurai Champloo</td>\n",
       "    </tr>\n",
       "    <tr>\n",
       "      <th>1</th>\n",
       "      <td>1499</td>\n",
       "      <td>4.484786</td>\n",
       "      <td>2000.0</td>\n",
       "      <td>FLCL</td>\n",
       "    </tr>\n",
       "    <tr>\n",
       "      <th>2</th>\n",
       "      <td>722</td>\n",
       "      <td>4.475898</td>\n",
       "      <td>2003.0</td>\n",
       "      <td>The Wire: Season 1</td>\n",
       "    </tr>\n",
       "    <tr>\n",
       "      <th>3</th>\n",
       "      <td>2114</td>\n",
       "      <td>4.470789</td>\n",
       "      <td>2002.0</td>\n",
       "      <td>Firefly</td>\n",
       "    </tr>\n",
       "    <tr>\n",
       "      <th>4</th>\n",
       "      <td>3456</td>\n",
       "      <td>4.470002</td>\n",
       "      <td>2004.0</td>\n",
       "      <td>Lost: Season 1</td>\n",
       "    </tr>\n",
       "    <tr>\n",
       "      <th>...</th>\n",
       "      <td>...</td>\n",
       "      <td>...</td>\n",
       "      <td>...</td>\n",
       "      <td>...</td>\n",
       "    </tr>\n",
       "    <tr>\n",
       "      <th>4329</th>\n",
       "      <td>3575</td>\n",
       "      <td>1.304073</td>\n",
       "      <td>2005.0</td>\n",
       "      <td>The Worst Horror Movie Ever Made</td>\n",
       "    </tr>\n",
       "    <tr>\n",
       "      <th>4330</th>\n",
       "      <td>4202</td>\n",
       "      <td>1.279676</td>\n",
       "      <td>2004.0</td>\n",
       "      <td>Half-Caste</td>\n",
       "    </tr>\n",
       "    <tr>\n",
       "      <th>4331</th>\n",
       "      <td>2999</td>\n",
       "      <td>1.278149</td>\n",
       "      <td>2003.0</td>\n",
       "      <td>Bad Bizness</td>\n",
       "    </tr>\n",
       "    <tr>\n",
       "      <th>4332</th>\n",
       "      <td>1725</td>\n",
       "      <td>1.154746</td>\n",
       "      <td>2003.0</td>\n",
       "      <td>Ben &amp; Arthur</td>\n",
       "    </tr>\n",
       "    <tr>\n",
       "      <th>4333</th>\n",
       "      <td>515</td>\n",
       "      <td>1.072285</td>\n",
       "      <td>2005.0</td>\n",
       "      <td>Avia Vampire Hunter</td>\n",
       "    </tr>\n",
       "  </tbody>\n",
       "</table>\n",
       "<p>4334 rows × 4 columns</p>\n",
       "</div>"
      ],
      "text/plain": [
       "     movie_id  estimate    year                             title\n",
       "0        2019  4.571664  2004.0                  Samurai Champloo\n",
       "1        1499  4.484786  2000.0                              FLCL\n",
       "2         722  4.475898  2003.0                The Wire: Season 1\n",
       "3        2114  4.470789  2002.0                           Firefly\n",
       "4        3456  4.470002  2004.0                    Lost: Season 1\n",
       "...       ...       ...     ...                               ...\n",
       "4329     3575  1.304073  2005.0  The Worst Horror Movie Ever Made\n",
       "4330     4202  1.279676  2004.0                        Half-Caste\n",
       "4331     2999  1.278149  2003.0                       Bad Bizness\n",
       "4332     1725  1.154746  2003.0                      Ben & Arthur\n",
       "4333      515  1.072285  2005.0               Avia Vampire Hunter\n",
       "\n",
       "[4334 rows x 4 columns]"
      ]
     },
     "execution_count": 23,
     "metadata": {},
     "output_type": "execute_result"
    }
   ],
   "source": [
    "# Example Output\n",
    "user_new_movie_recommendations(user_id = '785314')"
   ]
  },
  {
   "cell_type": "markdown",
   "id": "02d82880",
   "metadata": {
    "papermill": {
     "duration": 0.04651,
     "end_time": "2022-04-02T15:15:55.911381",
     "exception": false,
     "start_time": "2022-04-02T15:15:55.864871",
     "status": "completed"
    },
    "tags": []
   },
   "source": [
    "# Recommend Movies Based on Individual Movie\n",
    "\n",
    "As oposed to the bilinear prediction estimated with SVD, we can also perform a K-Nearest Neighbors calculation to make recommendations based upon a single movie. Specifically, for a given movie, we are finding the nearest neighbors in \"user space.\" Perhaps 'Movie A' is described by a certain group of users rating it as a \"5\". If we are looking for its nearest neighbors, these would correspond to the same users rating those movies highly.  \n",
    "\n",
    "\n"
   ]
  },
  {
   "cell_type": "code",
   "execution_count": 24,
   "id": "1ef4be85",
   "metadata": {
    "execution": {
     "iopub.execute_input": "2022-04-02T15:15:56.010474Z",
     "iopub.status.busy": "2022-04-02T15:15:56.009371Z",
     "iopub.status.idle": "2022-04-02T15:15:56.012330Z",
     "shell.execute_reply": "2022-04-02T15:15:56.011700Z",
     "shell.execute_reply.started": "2022-02-19T20:50:15.457699Z"
    },
    "papermill": {
     "duration": 0.055088,
     "end_time": "2022-04-02T15:15:56.012483",
     "exception": false,
     "start_time": "2022-04-02T15:15:55.957395",
     "status": "completed"
    },
    "tags": []
   },
   "outputs": [],
   "source": [
    "sim_options = {\n",
    "    'name': 'pearson', \n",
    "    'user_based': False\n",
    "}\n",
    "\n",
    "clf = KNNBasic(k=40, k_min=1, sim_options = sim_options)"
   ]
  },
  {
   "cell_type": "code",
   "execution_count": 25,
   "id": "65363c77",
   "metadata": {
    "execution": {
     "iopub.execute_input": "2022-04-02T15:15:56.110405Z",
     "iopub.status.busy": "2022-04-02T15:15:56.109349Z",
     "iopub.status.idle": "2022-04-02T15:15:56.112227Z",
     "shell.execute_reply": "2022-04-02T15:15:56.111605Z",
     "shell.execute_reply.started": "2022-02-19T20:50:15.470158Z"
    },
    "papermill": {
     "duration": 0.052296,
     "end_time": "2022-04-02T15:15:56.112366",
     "exception": false,
     "start_time": "2022-04-02T15:15:56.060070",
     "status": "completed"
    },
    "tags": []
   },
   "outputs": [],
   "source": [
    "# Cross Validation to Estimate Error -- Optional (time consuming)\n",
    "# Note: cross_validate() works on data, not the full trainset - they are different datastructures\n",
    "\n",
    "#cross_validate(clf, data, measures=['RMSE', 'MAE'], cv=5, verbose=True)"
   ]
  },
  {
   "cell_type": "code",
   "execution_count": 26,
   "id": "77f4bb62",
   "metadata": {
    "execution": {
     "iopub.execute_input": "2022-04-02T15:15:56.209166Z",
     "iopub.status.busy": "2022-04-02T15:15:56.205691Z",
     "iopub.status.idle": "2022-04-02T15:22:57.615310Z",
     "shell.execute_reply": "2022-04-02T15:22:57.614762Z",
     "shell.execute_reply.started": "2022-02-19T20:50:15.481978Z"
    },
    "papermill": {
     "duration": 421.457776,
     "end_time": "2022-04-02T15:22:57.615452",
     "exception": false,
     "start_time": "2022-04-02T15:15:56.157676",
     "status": "completed"
    },
    "tags": []
   },
   "outputs": [
    {
     "name": "stdout",
     "output_type": "stream",
     "text": [
      "Computing the pearson similarity matrix...\n",
      "Done computing similarity matrix.\n"
     ]
    },
    {
     "data": {
      "text/plain": [
       "<surprise.prediction_algorithms.knns.KNNBasic at 0x7f490bc06e10>"
      ]
     },
     "execution_count": 26,
     "metadata": {},
     "output_type": "execute_result"
    }
   ],
   "source": [
    "# Fit Model to Training Data\n",
    "clf.fit(train)"
   ]
  },
  {
   "cell_type": "code",
   "execution_count": 27,
   "id": "45600e9b",
   "metadata": {
    "execution": {
     "iopub.execute_input": "2022-04-02T15:22:57.723125Z",
     "iopub.status.busy": "2022-04-02T15:22:57.717923Z",
     "iopub.status.idle": "2022-04-02T15:22:57.726387Z",
     "shell.execute_reply": "2022-04-02T15:22:57.725843Z",
     "shell.execute_reply.started": "2022-02-19T20:57:20.330031Z"
    },
    "papermill": {
     "duration": 0.064974,
     "end_time": "2022-04-02T15:22:57.726528",
     "exception": false,
     "start_time": "2022-04-02T15:22:57.661554",
     "status": "completed"
    },
    "tags": []
   },
   "outputs": [
    {
     "data": {
      "text/plain": [
       "[10, 19, 33, 40, 41]"
      ]
     },
     "execution_count": 27,
     "metadata": {},
     "output_type": "execute_result"
    }
   ],
   "source": [
    "# Sample Predictions - (movie_id, num_nearest_neighbors)\n",
    "clf.get_neighbors(1, 5)"
   ]
  },
  {
   "cell_type": "code",
   "execution_count": 28,
   "id": "35ae5a26",
   "metadata": {
    "execution": {
     "iopub.execute_input": "2022-04-02T15:22:57.828402Z",
     "iopub.status.busy": "2022-04-02T15:22:57.827429Z",
     "iopub.status.idle": "2022-04-02T15:22:57.830433Z",
     "shell.execute_reply": "2022-04-02T15:22:57.829849Z",
     "shell.execute_reply.started": "2022-02-19T20:57:20.34653Z"
    },
    "papermill": {
     "duration": 0.056674,
     "end_time": "2022-04-02T15:22:57.830605",
     "exception": false,
     "start_time": "2022-04-02T15:22:57.773931",
     "status": "completed"
    },
    "tags": []
   },
   "outputs": [],
   "source": [
    "def movies_return_similar(movie_name, num_results=10):\n",
    "    \n",
    "    # Get movie_id from name\n",
    "    movie_id = df_titles[df_titles['title']==movie_name].iloc[0]['movie_id']\n",
    "    # Calculate KNN\n",
    "    results = clf.get_neighbors(int(movie_id), num_results)\n",
    "    # Results into DataFrame format and map movie names\n",
    "    results = pd.DataFrame(results, columns=['movie_id']).astype({'movie_id': 'str'})\n",
    "    results = map_names(results)\n",
    "    \n",
    "    return results"
   ]
  },
  {
   "cell_type": "code",
   "execution_count": 29,
   "id": "b107ce85",
   "metadata": {
    "execution": {
     "iopub.execute_input": "2022-04-02T15:22:57.935579Z",
     "iopub.status.busy": "2022-04-02T15:22:57.934549Z",
     "iopub.status.idle": "2022-04-02T15:22:57.968417Z",
     "shell.execute_reply": "2022-04-02T15:22:57.967774Z",
     "shell.execute_reply.started": "2022-02-19T20:57:20.359107Z"
    },
    "papermill": {
     "duration": 0.090648,
     "end_time": "2022-04-02T15:22:57.968576",
     "exception": false,
     "start_time": "2022-04-02T15:22:57.877928",
     "status": "completed"
    },
    "tags": []
   },
   "outputs": [
    {
     "data": {
      "text/html": [
       "<div>\n",
       "<style scoped>\n",
       "    .dataframe tbody tr th:only-of-type {\n",
       "        vertical-align: middle;\n",
       "    }\n",
       "\n",
       "    .dataframe tbody tr th {\n",
       "        vertical-align: top;\n",
       "    }\n",
       "\n",
       "    .dataframe thead th {\n",
       "        text-align: right;\n",
       "    }\n",
       "</style>\n",
       "<table border=\"1\" class=\"dataframe\">\n",
       "  <thead>\n",
       "    <tr style=\"text-align: right;\">\n",
       "      <th></th>\n",
       "      <th>movie_id</th>\n",
       "      <th>year</th>\n",
       "      <th>title</th>\n",
       "    </tr>\n",
       "  </thead>\n",
       "  <tbody>\n",
       "    <tr>\n",
       "      <th>0</th>\n",
       "      <td>10</td>\n",
       "      <td>2001.0</td>\n",
       "      <td>Fighter</td>\n",
       "    </tr>\n",
       "    <tr>\n",
       "      <th>1</th>\n",
       "      <td>19</td>\n",
       "      <td>2000.0</td>\n",
       "      <td>By Dawn's Early Light</td>\n",
       "    </tr>\n",
       "    <tr>\n",
       "      <th>2</th>\n",
       "      <td>33</td>\n",
       "      <td>2000.0</td>\n",
       "      <td>Aqua Teen Hunger Force: Vol. 1</td>\n",
       "    </tr>\n",
       "    <tr>\n",
       "      <th>3</th>\n",
       "      <td>40</td>\n",
       "      <td>2004.0</td>\n",
       "      <td>Pitcher and the Pin-Up</td>\n",
       "    </tr>\n",
       "    <tr>\n",
       "      <th>4</th>\n",
       "      <td>41</td>\n",
       "      <td>2000.0</td>\n",
       "      <td>Horror Vision</td>\n",
       "    </tr>\n",
       "    <tr>\n",
       "      <th>5</th>\n",
       "      <td>52</td>\n",
       "      <td>2002.0</td>\n",
       "      <td>The Weather Underground</td>\n",
       "    </tr>\n",
       "    <tr>\n",
       "      <th>6</th>\n",
       "      <td>62</td>\n",
       "      <td>1991.0</td>\n",
       "      <td>Ken Burns' America: Empire of the Air</td>\n",
       "    </tr>\n",
       "    <tr>\n",
       "      <th>7</th>\n",
       "      <td>92</td>\n",
       "      <td>2002.0</td>\n",
       "      <td>ECW: Cyberslam '99</td>\n",
       "    </tr>\n",
       "    <tr>\n",
       "      <th>8</th>\n",
       "      <td>122</td>\n",
       "      <td>2002.0</td>\n",
       "      <td>Cube 2: Hypercube</td>\n",
       "    </tr>\n",
       "    <tr>\n",
       "      <th>9</th>\n",
       "      <td>129</td>\n",
       "      <td>2003.0</td>\n",
       "      <td>Darkwolf</td>\n",
       "    </tr>\n",
       "  </tbody>\n",
       "</table>\n",
       "</div>"
      ],
      "text/plain": [
       "  movie_id    year                                  title\n",
       "0       10  2001.0                                Fighter\n",
       "1       19  2000.0                  By Dawn's Early Light\n",
       "2       33  2000.0         Aqua Teen Hunger Force: Vol. 1\n",
       "3       40  2004.0                 Pitcher and the Pin-Up\n",
       "4       41  2000.0                          Horror Vision\n",
       "5       52  2002.0                The Weather Underground\n",
       "6       62  1991.0  Ken Burns' America: Empire of the Air\n",
       "7       92  2002.0                     ECW: Cyberslam '99\n",
       "8      122  2002.0                      Cube 2: Hypercube\n",
       "9      129  2003.0                               Darkwolf"
      ]
     },
     "execution_count": 29,
     "metadata": {},
     "output_type": "execute_result"
    }
   ],
   "source": [
    "movies_return_similar('Dinosaur Planet', num_results=10)"
   ]
  },
  {
   "cell_type": "markdown",
   "id": "fd2f036d",
   "metadata": {
    "papermill": {
     "duration": 0.048952,
     "end_time": "2022-04-02T15:22:58.065121",
     "exception": false,
     "start_time": "2022-04-02T15:22:58.016169",
     "status": "completed"
    },
    "tags": []
   },
   "source": [
    "# Conclusions\n",
    "\n",
    "* Collaborative filtering models are an effective way to recommend content based upon user behavior (and utilize this data)\n",
    "* Explicit data can be utilized (user ratings), though features can also be calculated with implicit data (e.g. did someone stop watching a movie after 5 minutes?)\n",
    "* Collaborative filtering can be used to make recommendations for a given user or based on a single product\n",
    "* The collaborative filtering model used in this notebook is based upon singular value decomposition\n",
    "* \"Surprise\", a Python scikit, is a very useful and efficient tool for building recommender systems, even with particularly large, sparse matrices"
   ]
  },
  {
   "cell_type": "code",
   "execution_count": null,
   "id": "b3959c3a",
   "metadata": {
    "papermill": {
     "duration": 0.047224,
     "end_time": "2022-04-02T15:22:58.160415",
     "exception": false,
     "start_time": "2022-04-02T15:22:58.113191",
     "status": "completed"
    },
    "tags": []
   },
   "outputs": [],
   "source": []
  }
 ],
 "metadata": {
  "kernelspec": {
   "display_name": "Python 3",
   "language": "python",
   "name": "python3"
  },
  "language_info": {
   "codemirror_mode": {
    "name": "ipython",
    "version": 3
   },
   "file_extension": ".py",
   "mimetype": "text/x-python",
   "name": "python",
   "nbconvert_exporter": "python",
   "pygments_lexer": "ipython3",
   "version": "3.7.12"
  },
  "papermill": {
   "default_parameters": {},
   "duration": 1505.267024,
   "end_time": "2022-04-02T15:23:01.423652",
   "environment_variables": {},
   "exception": null,
   "input_path": "__notebook__.ipynb",
   "output_path": "__notebook__.ipynb",
   "parameters": {},
   "start_time": "2022-04-02T14:57:56.156628",
   "version": "2.3.3"
  }
 },
 "nbformat": 4,
 "nbformat_minor": 5
}
